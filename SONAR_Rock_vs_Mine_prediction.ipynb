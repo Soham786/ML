{
  "nbformat": 4,
  "nbformat_minor": 0,
  "metadata": {
    "colab": {
      "provenance": [],
      "authorship_tag": "ABX9TyPiKO0qGl3fbdWajnrCGSjP",
      "include_colab_link": true
    },
    "kernelspec": {
      "name": "python3",
      "display_name": "Python 3"
    },
    "language_info": {
      "name": "python"
    }
  },
  "cells": [
    {
      "cell_type": "markdown",
      "metadata": {
        "id": "view-in-github",
        "colab_type": "text"
      },
      "source": [
        "<a href=\"https://colab.research.google.com/github/Soham786/ML/blob/main/SONAR_Rock_vs_Mine_prediction.ipynb\" target=\"_parent\"><img src=\"https://colab.research.google.com/assets/colab-badge.svg\" alt=\"Open In Colab\"/></a>"
      ]
    },
    {
      "cell_type": "code",
      "execution_count": null,
      "metadata": {
        "id": "Y_n7skJpu7I6"
      },
      "outputs": [],
      "source": [
        "import numpy as np\n",
        "import pandas as pd\n",
        "from sklearn.model_selection import train_test_split\n",
        "from sklearn.linear_model import LogisticRegression\n",
        "from sklearn.metrics import accuracy_score\n"
      ]
    },
    {
      "cell_type": "markdown",
      "source": [
        "Data Collection and Data Processing"
      ],
      "metadata": {
        "id": "KC1V7y7lxvar"
      }
    },
    {
      "cell_type": "code",
      "source": [
        "sonar_data = pd.read_csv('/content/sonar data.csv',header=None)"
      ],
      "metadata": {
        "id": "k85wokexvOUR"
      },
      "execution_count": null,
      "outputs": []
    },
    {
      "cell_type": "code",
      "source": [
        "sonar_data.head()"
      ],
      "metadata": {
        "id": "LqY-V_J1vT3Q"
      },
      "execution_count": null,
      "outputs": []
    },
    {
      "cell_type": "code",
      "source": [
        "sonar_data.shape"
      ],
      "metadata": {
        "id": "3hYyMMQNvWEK"
      },
      "execution_count": null,
      "outputs": []
    },
    {
      "cell_type": "code",
      "source": [
        "sonar_data.describe()"
      ],
      "metadata": {
        "id": "DFVpv3u3vbEx"
      },
      "execution_count": null,
      "outputs": []
    },
    {
      "cell_type": "markdown",
      "source": [
        "M - Mine\n",
        "R - Rock"
      ],
      "metadata": {
        "id": "w8JaFyAGxpZD"
      }
    },
    {
      "cell_type": "code",
      "source": [
        "sonar_data[60].value_counts()"
      ],
      "metadata": {
        "id": "MtsOMJoLvcCp"
      },
      "execution_count": null,
      "outputs": []
    },
    {
      "cell_type": "code",
      "source": [
        "sonar_data.groupby(60).mean()"
      ],
      "metadata": {
        "id": "fgiBVWMnve5t"
      },
      "execution_count": null,
      "outputs": []
    },
    {
      "cell_type": "markdown",
      "source": [
        "Separating Data and Labels "
      ],
      "metadata": {
        "id": "CFnGeVKnxPi2"
      }
    },
    {
      "cell_type": "code",
      "source": [
        "X = sonar_data.drop(columns=60, axis= 1)\n",
        "Y = sonar_data[60]"
      ],
      "metadata": {
        "id": "n23lu8xlvmiM"
      },
      "execution_count": null,
      "outputs": []
    },
    {
      "cell_type": "code",
      "source": [
        "print(X)\n",
        "print(Y)"
      ],
      "metadata": {
        "id": "JGuFFEauvoQ7"
      },
      "execution_count": null,
      "outputs": []
    },
    {
      "cell_type": "code",
      "source": [
        "X_train , X_test , Y_train , Y_test = train_test_split(X, Y, test_size = 0.1, stratify=Y, random_state=1)"
      ],
      "metadata": {
        "id": "zVZbVs_xvuah"
      },
      "execution_count": null,
      "outputs": []
    },
    {
      "cell_type": "code",
      "source": [
        "print(X.shape, X_test.shape, X_test.shape)"
      ],
      "metadata": {
        "id": "k5-fnH5Jv_CZ"
      },
      "execution_count": null,
      "outputs": []
    },
    {
      "cell_type": "markdown",
      "source": [
        "Model Training--> Logistic Regression"
      ],
      "metadata": {
        "id": "pC_KS-tRw5DC"
      }
    },
    {
      "cell_type": "code",
      "source": [
        "model = LogisticRegression()\n"
      ],
      "metadata": {
        "id": "LoHZ7F1hwErC"
      },
      "execution_count": null,
      "outputs": []
    },
    {
      "cell_type": "code",
      "source": [
        "model.fit(X_train, Y_train)"
      ],
      "metadata": {
        "id": "47Njm85EwFRK"
      },
      "execution_count": null,
      "outputs": []
    },
    {
      "cell_type": "markdown",
      "source": [
        "Model Evaluation"
      ],
      "metadata": {
        "id": "0V8X-hpywwMx"
      }
    },
    {
      "cell_type": "code",
      "source": [
        "X_train_prediction = model.predict(X_train)\n",
        "training_data_aacuracy = accuracy_score(X_train_prediction, Y_train)"
      ],
      "metadata": {
        "id": "fmsUCpyhwUnx"
      },
      "execution_count": null,
      "outputs": []
    },
    {
      "cell_type": "code",
      "source": [
        "print('Accuracy on training data: ',training_data_aacuracy)"
      ],
      "metadata": {
        "id": "vL5S1oauwXHc"
      },
      "execution_count": null,
      "outputs": []
    },
    {
      "cell_type": "code",
      "source": [
        "X_test_prediction = model.predict(X_test)\n",
        "test_data_aacuracy = accuracy_score(X_test_prediction, Y_test)"
      ],
      "metadata": {
        "id": "Ao5492udwZZb"
      },
      "execution_count": null,
      "outputs": []
    },
    {
      "cell_type": "code",
      "source": [
        "print('Accuracy on test data: ',test_data_aacuracy)"
      ],
      "metadata": {
        "id": "saqoRn-kwbok"
      },
      "execution_count": null,
      "outputs": []
    },
    {
      "cell_type": "markdown",
      "source": [
        "Making a predective System"
      ],
      "metadata": {
        "id": "MvyC5untwnJp"
      }
    },
    {
      "cell_type": "code",
      "source": [
        "input_data = ()\n",
        "\n",
        "input_data_as_numpy_array = np.asarray(input_data)\n",
        "\n",
        "input_data_reshaped = input_data_as_numpy_array.reshape(1,-1)\n",
        "\n",
        "prediction = model.predict(input_data_reshaped)\n",
        "print(prediction)\n",
        "\n",
        "if (prediction[0]=='R'):\n",
        "  print(\"THE OBJECT AS ROCK\")\n",
        "\n",
        "else:\n",
        "  print(\"THE OBJECT AS MINE\")"
      ],
      "metadata": {
        "id": "M2cLrnkzwd5Z"
      },
      "execution_count": null,
      "outputs": []
    }
  ]
}